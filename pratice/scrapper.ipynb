{
 "cells": [
  {
   "cell_type": "code",
   "execution_count": 1,
   "metadata": {},
   "outputs": [],
   "source": [
    "import bs4\n",
    "import requests"
   ]
  },
  {
   "cell_type": "code",
   "execution_count": 2,
   "metadata": {},
   "outputs": [],
   "source": [
    "request=requests.get(\"https://www.flipkart.com/noise-colorfit-loop-advanced-bt-calling-1-85-display-130-sports-modes-smartwatch/p/itm02881a00e9234\")\n"
   ]
  },
  {
   "cell_type": "code",
   "execution_count": 3,
   "metadata": {},
   "outputs": [],
   "source": [
    "soup=bs4.BeautifulSoup(request.text)"
   ]
  },
  {
   "cell_type": "code",
   "execution_count": 4,
   "metadata": {},
   "outputs": [
    {
     "name": "stdout",
     "output_type": "stream",
     "text": [
      "Tanu Gupta \n",
      "\n",
      "Nalini B s \n",
      "\n",
      "Akhil Mondal \n",
      "\n",
      "Vaishali Barve \n",
      "\n",
      "Adikeshava A S \n",
      "\n",
      "RAJNEESH RAJU \n",
      "\n",
      "Flipkart Customer \n",
      "\n",
      "Tumpa Manya \n",
      "\n",
      "bishnu rabha \n",
      "\n",
      "Dhruvraj  Maurya  \n",
      "\n"
     ]
    }
   ],
   "source": [
    "cust_name=soup.find_all(\"p\",{\"class\":\"_2NsDsF AwS1CA\"})\n",
    "for name in  cust_name:\n",
    "    print(name.getText(),\"\\n\")"
   ]
  },
  {
   "cell_type": "code",
   "execution_count": 5,
   "metadata": {},
   "outputs": [
    {
     "name": "stdout",
     "output_type": "stream",
     "text": [
      "5\n",
      "\n",
      "\n",
      "5\n",
      "\n",
      "\n",
      "5\n",
      "\n",
      "\n",
      "5\n",
      "\n",
      "\n",
      "5\n",
      "\n",
      "\n",
      "4\n",
      "\n",
      "\n",
      "5\n",
      "\n",
      "\n",
      "5\n",
      "\n",
      "\n",
      "5\n",
      "\n",
      "\n",
      "5\n",
      "\n",
      "\n"
     ]
    }
   ],
   "source": [
    "ratings=soup.findAll('div',{'class':\"XQDdHH Ga3i8K\"})\n",
    "for rating in ratings:\n",
    "    print(rating.getText()+\"\\n\\n\")"
   ]
  },
  {
   "cell_type": "code",
   "execution_count": 6,
   "metadata": {},
   "outputs": [
    {
     "name": "stdout",
     "output_type": "stream",
     "text": [
      "GoodREAD MORE\n",
      "\n",
      "Must buy best product in noise looking good and best priceREAD MORE\n",
      "\n",
      "I liked itREAD MORE\n",
      "\n",
      "Best watchREAD MORE\n",
      "\n",
      "Good quality products but when I'm using BT calling battery is 5 are 6 days without BT calling battery is better 7 are 8 days is standing time but good product satisfiedREAD MORE\n",
      "\n",
      "Very nice smart watch nice colourREAD MORE\n",
      "\n",
      "Nice product 👍😊READ MORE\n",
      "\n",
      "Very nice I loved❤😘READ MORE\n",
      "\n",
      "Omg nice product for noise colorfit loop adavance BT calling  awsm 👏..I usually used a noise colorfit pro 3 it's a nice product 👌..it's a true value 4 money..Bluetooth calling 📞 sound too loud ND nice crisp sound I enjoy the smart  unisex watch ....I love  it if u want get it now u really enjoy ND loved it iam Sure...READ MORE\n",
      "\n",
      "Excellent product value for money productREAD MORE\n",
      "\n"
     ]
    }
   ],
   "source": [
    "reviews=soup.findAll('div',{'class':'ZmyHeo'})\n",
    "for review in reviews:\n",
    "    print(review.getText()+\"\\n\")"
   ]
  },
  {
   "cell_type": "code",
   "execution_count": 7,
   "metadata": {},
   "outputs": [
    {
     "name": "stdout",
     "output_type": "stream",
     "text": [
      "Wonderful\n",
      "\n",
      "\n",
      "Simply awesome\n",
      "\n",
      "\n",
      "Fabulous!\n",
      "\n",
      "\n",
      "Just wow!\n",
      "\n",
      "\n",
      "Worth every penny\n",
      "\n",
      "\n",
      "Really Nice\n",
      "\n",
      "\n",
      "Perfect product!\n",
      "\n",
      "\n",
      "Wonderful\n",
      "\n",
      "\n",
      "Super!\n",
      "\n",
      "\n",
      "Super!\n",
      "\n",
      "\n"
     ]
    }
   ],
   "source": [
    "review_title=soup.findAll('p',{\"class\":\"z9E0IG\"})\n",
    "for title in review_title:\n",
    "    print(title.getText()+\"\\n\\n\")"
   ]
  },
  {
   "cell_type": "code",
   "execution_count": 8,
   "metadata": {},
   "outputs": [
    {
     "name": "stderr",
     "output_type": "stream",
     "text": [
      "C:\\Users\\Atharva\\AppData\\Local\\Temp\\ipykernel_16400\\4080736814.py:1: DeprecationWarning: \n",
      "Pyarrow will become a required dependency of pandas in the next major release of pandas (pandas 3.0),\n",
      "(to allow more performant data types, such as the Arrow string type, and better interoperability with other libraries)\n",
      "but was not found to be installed on your system.\n",
      "If this would cause problems for you,\n",
      "please provide us feedback at https://github.com/pandas-dev/pandas/issues/54466\n",
      "        \n",
      "  import pandas as pd\n"
     ]
    }
   ],
   "source": [
    "import pandas as pd"
   ]
  },
  {
   "cell_type": "code",
   "execution_count": 9,
   "metadata": {},
   "outputs": [],
   "source": [
    "df=pd.DataFrame()"
   ]
  },
  {
   "cell_type": "code",
   "execution_count": 10,
   "metadata": {},
   "outputs": [],
   "source": [
    "df[['Customer Name']]=cust_name\n",
    "df['Review']=reviews\n",
    "df[[\"Review title\"]]=review_title\n",
    "df['Rating']=ratings"
   ]
  },
  {
   "cell_type": "code",
   "execution_count": 11,
   "metadata": {},
   "outputs": [
    {
     "data": {
      "text/html": [
       "<div>\n",
       "<style scoped>\n",
       "    .dataframe tbody tr th:only-of-type {\n",
       "        vertical-align: middle;\n",
       "    }\n",
       "\n",
       "    .dataframe tbody tr th {\n",
       "        vertical-align: top;\n",
       "    }\n",
       "\n",
       "    .dataframe thead th {\n",
       "        text-align: right;\n",
       "    }\n",
       "</style>\n",
       "<table border=\"1\" class=\"dataframe\">\n",
       "  <thead>\n",
       "    <tr style=\"text-align: right;\">\n",
       "      <th></th>\n",
       "      <th>Customer Name</th>\n",
       "      <th>Review</th>\n",
       "      <th>Review title</th>\n",
       "      <th>Rating</th>\n",
       "    </tr>\n",
       "  </thead>\n",
       "  <tbody>\n",
       "    <tr>\n",
       "      <th>0</th>\n",
       "      <td>Tanu Gupta</td>\n",
       "      <td>[[[Good], [&lt;span&gt;READ MORE&lt;/span&gt;]]]</td>\n",
       "      <td>Wonderful</td>\n",
       "      <td>[5, []]</td>\n",
       "    </tr>\n",
       "    <tr>\n",
       "      <th>1</th>\n",
       "      <td>Nalini B s</td>\n",
       "      <td>[[[Must buy best product in noise looking good...</td>\n",
       "      <td>Simply awesome</td>\n",
       "      <td>[5, []]</td>\n",
       "    </tr>\n",
       "    <tr>\n",
       "      <th>2</th>\n",
       "      <td>Akhil Mondal</td>\n",
       "      <td>[[[I liked it], [&lt;span&gt;READ MORE&lt;/span&gt;]]]</td>\n",
       "      <td>Fabulous!</td>\n",
       "      <td>[5, []]</td>\n",
       "    </tr>\n",
       "    <tr>\n",
       "      <th>3</th>\n",
       "      <td>Vaishali Barve</td>\n",
       "      <td>[[[Best watch], [&lt;span&gt;READ MORE&lt;/span&gt;]]]</td>\n",
       "      <td>Just wow!</td>\n",
       "      <td>[5, []]</td>\n",
       "    </tr>\n",
       "    <tr>\n",
       "      <th>4</th>\n",
       "      <td>Adikeshava A S</td>\n",
       "      <td>[[[Good quality products but when I'm using BT...</td>\n",
       "      <td>Worth every penny</td>\n",
       "      <td>[5, []]</td>\n",
       "    </tr>\n",
       "    <tr>\n",
       "      <th>5</th>\n",
       "      <td>RAJNEESH RAJU</td>\n",
       "      <td>[[[Very nice smart watch nice colour], [&lt;span&gt;...</td>\n",
       "      <td>Really Nice</td>\n",
       "      <td>[4, []]</td>\n",
       "    </tr>\n",
       "    <tr>\n",
       "      <th>6</th>\n",
       "      <td>Flipkart Customer</td>\n",
       "      <td>[[[Nice product 👍😊], [&lt;span&gt;READ MORE&lt;/span&gt;]]]</td>\n",
       "      <td>Perfect product!</td>\n",
       "      <td>[5, []]</td>\n",
       "    </tr>\n",
       "    <tr>\n",
       "      <th>7</th>\n",
       "      <td>Tumpa Manya</td>\n",
       "      <td>[[[Very nice I loved❤😘], [&lt;span&gt;READ MORE&lt;/spa...</td>\n",
       "      <td>Wonderful</td>\n",
       "      <td>[5, []]</td>\n",
       "    </tr>\n",
       "    <tr>\n",
       "      <th>8</th>\n",
       "      <td>bishnu rabha</td>\n",
       "      <td>[[[Omg nice product for noise colorfit loop ad...</td>\n",
       "      <td>Super!</td>\n",
       "      <td>[5, []]</td>\n",
       "    </tr>\n",
       "    <tr>\n",
       "      <th>9</th>\n",
       "      <td>Dhruvraj  Maurya</td>\n",
       "      <td>[[[Excellent product value for money product],...</td>\n",
       "      <td>Super!</td>\n",
       "      <td>[5, []]</td>\n",
       "    </tr>\n",
       "  </tbody>\n",
       "</table>\n",
       "</div>"
      ],
      "text/plain": [
       "       Customer Name                                             Review  \\\n",
       "0         Tanu Gupta               [[[Good], [<span>READ MORE</span>]]]   \n",
       "1         Nalini B s  [[[Must buy best product in noise looking good...   \n",
       "2       Akhil Mondal         [[[I liked it], [<span>READ MORE</span>]]]   \n",
       "3     Vaishali Barve         [[[Best watch], [<span>READ MORE</span>]]]   \n",
       "4     Adikeshava A S  [[[Good quality products but when I'm using BT...   \n",
       "5      RAJNEESH RAJU  [[[Very nice smart watch nice colour], [<span>...   \n",
       "6  Flipkart Customer    [[[Nice product 👍😊], [<span>READ MORE</span>]]]   \n",
       "7        Tumpa Manya  [[[Very nice I loved❤😘], [<span>READ MORE</spa...   \n",
       "8       bishnu rabha  [[[Omg nice product for noise colorfit loop ad...   \n",
       "9  Dhruvraj  Maurya   [[[Excellent product value for money product],...   \n",
       "\n",
       "        Review title   Rating  \n",
       "0          Wonderful  [5, []]  \n",
       "1     Simply awesome  [5, []]  \n",
       "2          Fabulous!  [5, []]  \n",
       "3          Just wow!  [5, []]  \n",
       "4  Worth every penny  [5, []]  \n",
       "5        Really Nice  [4, []]  \n",
       "6   Perfect product!  [5, []]  \n",
       "7          Wonderful  [5, []]  \n",
       "8             Super!  [5, []]  \n",
       "9             Super!  [5, []]  "
      ]
     },
     "execution_count": 11,
     "metadata": {},
     "output_type": "execute_result"
    }
   ],
   "source": [
    "df"
   ]
  },
  {
   "cell_type": "code",
   "execution_count": null,
   "metadata": {},
   "outputs": [],
   "source": []
  }
 ],
 "metadata": {
  "kernelspec": {
   "display_name": "Python 3",
   "language": "python",
   "name": "python3"
  },
  "language_info": {
   "codemirror_mode": {
    "name": "ipython",
    "version": 3
   },
   "file_extension": ".py",
   "mimetype": "text/x-python",
   "name": "python",
   "nbconvert_exporter": "python",
   "pygments_lexer": "ipython3",
   "version": "3.12.1"
  }
 },
 "nbformat": 4,
 "nbformat_minor": 2
}
